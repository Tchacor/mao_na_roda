{
  "cells": [
    {
      "cell_type": "markdown",
      "metadata": {
        "id": "view-in-github",
        "colab_type": "text"
      },
      "source": [
        "<a href=\"https://colab.research.google.com/github/Tchacor/mao_na_roda/blob/main/agente_mao_na_roda.ipynb\" target=\"_parent\"><img src=\"https://colab.research.google.com/assets/colab-badge.svg\" alt=\"Open In Colab\"/></a>"
      ]
    },
    {
      "cell_type": "code",
      "execution_count": null,
      "metadata": {
        "id": "ZD2VsV1oMwTK"
      },
      "outputs": [],
      "source": [
        "%pip -q install google-genai"
      ]
    },
    {
      "cell_type": "code",
      "execution_count": null,
      "metadata": {
        "id": "swo-Zi2NM10V"
      },
      "outputs": [],
      "source": [
        "%pip -q install Pillow"
      ]
    },
    {
      "cell_type": "code",
      "execution_count": null,
      "metadata": {
        "id": "IWaRIwNNM2q9"
      },
      "outputs": [],
      "source": [
        "# Configura a API Key do Google Gemini\n",
        "\n",
        "import os\n",
        "from google.colab import userdata\n",
        "\n",
        "GOOGLE_API_KEY = userdata.get('GOOGLE_API_KEY')\n",
        "os.environ[\"GOOGLE_API_KEY\"] = GOOGLE_API_KEY"
      ]
    },
    {
      "cell_type": "code",
      "execution_count": null,
      "metadata": {
        "id": "_xdTRq-1M8F8"
      },
      "outputs": [],
      "source": [
        "# Configura o cliente da SDK do Gemini\n",
        "\n",
        "from google import genai # Importa o pacote google.genai\n",
        "from google.genai import types # Para criar conteúdos (Content e Part)"
      ]
    },
    {
      "cell_type": "code",
      "execution_count": null,
      "metadata": {
        "colab": {
          "base_uri": "https://localhost:8080/"
        },
        "id": "UbVl_X-7oYUF",
        "outputId": "b1205134-d314-4c6f-ce84-53546555e535"
      },
      "outputs": [
        {
          "output_type": "stream",
          "name": "stdout",
          "text": [
            "Cliente google.genai.Client inicializado com sucesso.\n"
          ]
        }
      ],
      "source": [
        "# Inicializa o cliente.\n",
        "\n",
        "try:\n",
        "    client = genai.Client()\n",
        "    print(\"Cliente google.genai.Client inicializado com sucesso.\")\n",
        "except Exception as e:\n",
        "    print(f\"Erro ao inicializar google.genai.Client: {e}\")\n",
        "    client = None\n",
        "\n",
        "MODEL_ID = \"gemini-2.0-flash\""
      ]
    },
    {
      "cell_type": "code",
      "execution_count": null,
      "metadata": {
        "id": "U6bf-pGhM_Rk",
        "colab": {
          "base_uri": "https://localhost:8080/"
        },
        "outputId": "c4632b29-2ed8-42fe-d4b0-2f628e1192b5"
      },
      "outputs": [
        {
          "output_type": "stream",
          "name": "stdout",
          "text": [
            "\u001b[?25l   \u001b[90m━━━━━━━━━━━━━━━━━━━━━━━━━━━━━━━━━━━━━━━━\u001b[0m \u001b[32m0.0/1.2 MB\u001b[0m \u001b[31m?\u001b[0m eta \u001b[36m-:--:--\u001b[0m\r\u001b[2K   \u001b[91m━━━━━━━━━━━━━━━━\u001b[0m\u001b[90m╺\u001b[0m\u001b[90m━━━━━━━━━━━━━━━━━━━━━━━\u001b[0m \u001b[32m0.5/1.2 MB\u001b[0m \u001b[31m14.4 MB/s\u001b[0m eta \u001b[36m0:00:01\u001b[0m\r\u001b[2K   \u001b[90m━━━━━━━━━━━━━━━━━━━━━━━━━━━━━━━━━━━━━━━━\u001b[0m \u001b[32m1.2/1.2 MB\u001b[0m \u001b[31m17.8 MB/s\u001b[0m eta \u001b[36m0:00:00\u001b[0m\n",
            "\u001b[?25h\u001b[?25l   \u001b[90m━━━━━━━━━━━━━━━━━━━━━━━━━━━━━━━━━━━━━━━━\u001b[0m \u001b[32m0.0/232.1 kB\u001b[0m \u001b[31m?\u001b[0m eta \u001b[36m-:--:--\u001b[0m\r\u001b[2K   \u001b[90m━━━━━━━━━━━━━━━━━━━━━━━━━━━━━━━━━━━━━━━━\u001b[0m \u001b[32m232.1/232.1 kB\u001b[0m \u001b[31m13.9 MB/s\u001b[0m eta \u001b[36m0:00:00\u001b[0m\n",
            "\u001b[?25h\u001b[?25l   \u001b[90m━━━━━━━━━━━━━━━━━━━━━━━━━━━━━━━━━━━━━━━━\u001b[0m \u001b[32m0.0/95.2 kB\u001b[0m \u001b[31m?\u001b[0m eta \u001b[36m-:--:--\u001b[0m\r\u001b[2K   \u001b[90m━━━━━━━━━━━━━━━━━━━━━━━━━━━━━━━━━━━━━━━━\u001b[0m \u001b[32m95.2/95.2 kB\u001b[0m \u001b[31m6.4 MB/s\u001b[0m eta \u001b[36m0:00:00\u001b[0m\n",
            "\u001b[2K   \u001b[90m━━━━━━━━━━━━━━━━━━━━━━━━━━━━━━━━━━━━━━━━\u001b[0m \u001b[32m217.1/217.1 kB\u001b[0m \u001b[31m14.4 MB/s\u001b[0m eta \u001b[36m0:00:00\u001b[0m\n",
            "\u001b[2K   \u001b[90m━━━━━━━━━━━━━━━━━━━━━━━━━━━━━━━━━━━━━━━━\u001b[0m \u001b[32m334.1/334.1 kB\u001b[0m \u001b[31m19.8 MB/s\u001b[0m eta \u001b[36m0:00:00\u001b[0m\n",
            "\u001b[2K   \u001b[90m━━━━━━━━━━━━━━━━━━━━━━━━━━━━━━━━━━━━━━━━\u001b[0m \u001b[32m125.1/125.1 kB\u001b[0m \u001b[31m8.0 MB/s\u001b[0m eta \u001b[36m0:00:00\u001b[0m\n",
            "\u001b[2K   \u001b[90m━━━━━━━━━━━━━━━━━━━━━━━━━━━━━━━━━━━━━━━━\u001b[0m \u001b[32m65.8/65.8 kB\u001b[0m \u001b[31m4.2 MB/s\u001b[0m eta \u001b[36m0:00:00\u001b[0m\n",
            "\u001b[2K   \u001b[90m━━━━━━━━━━━━━━━━━━━━━━━━━━━━━━━━━━━━━━━━\u001b[0m \u001b[32m119.0/119.0 kB\u001b[0m \u001b[31m8.7 MB/s\u001b[0m eta \u001b[36m0:00:00\u001b[0m\n",
            "\u001b[2K   \u001b[90m━━━━━━━━━━━━━━━━━━━━━━━━━━━━━━━━━━━━━━━━\u001b[0m \u001b[32m194.9/194.9 kB\u001b[0m \u001b[31m12.7 MB/s\u001b[0m eta \u001b[36m0:00:00\u001b[0m\n",
            "\u001b[2K   \u001b[90m━━━━━━━━━━━━━━━━━━━━━━━━━━━━━━━━━━━━━━━━\u001b[0m \u001b[32m62.5/62.5 kB\u001b[0m \u001b[31m4.0 MB/s\u001b[0m eta \u001b[36m0:00:00\u001b[0m\n",
            "\u001b[2K   \u001b[90m━━━━━━━━━━━━━━━━━━━━━━━━━━━━━━━━━━━━━━━━\u001b[0m \u001b[32m103.3/103.3 kB\u001b[0m \u001b[31m7.4 MB/s\u001b[0m eta \u001b[36m0:00:00\u001b[0m\n",
            "\u001b[2K   \u001b[90m━━━━━━━━━━━━━━━━━━━━━━━━━━━━━━━━━━━━━━━━\u001b[0m \u001b[32m44.4/44.4 kB\u001b[0m \u001b[31m2.7 MB/s\u001b[0m eta \u001b[36m0:00:00\u001b[0m\n",
            "\u001b[2K   \u001b[90m━━━━━━━━━━━━━━━━━━━━━━━━━━━━━━━━━━━━━━━━\u001b[0m \u001b[32m72.0/72.0 kB\u001b[0m \u001b[31m4.9 MB/s\u001b[0m eta \u001b[36m0:00:00\u001b[0m\n",
            "\u001b[?25h"
          ]
        }
      ],
      "source": [
        "# Instalar Framework ADK de agentes do Google\n",
        "%pip install -q google-adk"
      ]
    },
    {
      "cell_type": "code",
      "execution_count": null,
      "metadata": {
        "id": "HhZ4ekPuM_ta"
      },
      "outputs": [],
      "source": [
        "from google.adk.agents import Agent\n",
        "from google.adk.runners import Runner\n",
        "from google.adk.sessions import InMemorySessionService\n",
        "from google.adk.tools import google_search\n",
        "from datetime import date\n",
        "from PIL import Image # Para manipulação de imagens\n",
        "import pathlib # Para manipulação de caminhos de arquivo\n",
        "import textwrap # Para formatar melhor a saída de texto\n",
        "from IPython.display import display, Markdown # Para exibir texto formatado no Colab\n",
        "import warnings\n",
        "\n",
        "warnings.filterwarnings(\"ignore\") # Suprime avisos"
      ]
    },
    {
      "cell_type": "code",
      "execution_count": null,
      "metadata": {
        "id": "a-2mjMpNNMRE"
      },
      "outputs": [],
      "source": [
        "# Função auxiliar para exibir texto formatado em Markdown no Colab\n",
        "def to_markdown(text):\n",
        "  text = text.replace('•', '  *')\n",
        "  return Markdown(textwrap.indent(text, '> ', predicate=lambda _: True))"
      ]
    },
    {
      "cell_type": "code",
      "execution_count": null,
      "metadata": {
        "id": "bhtqdjZkNOms"
      },
      "outputs": [],
      "source": [
        "################################################\n",
        "# --- Agente Mão na Roda --- #\n",
        "################################################\n",
        "SYSTEM_INSTRUCTION=\"\"\"\n",
        "Você é o \"Mão na Roda\", um assistente de IA amigável, paciente e especialista em pequenos reparos domésticos e projetos de faça-você-mesmo.\n",
        "Sua missão é ajudar usuários sem experiência a resolverem problemas comuns em suas casas, de forma segura e didática.\n",
        "\n",
        "**Suas diretrizes são:**\n",
        "\n",
        "1.  **Tom Conversacional e Amigável:** Mantenha uma conversa natural, empática e encorajadora. Use linguagem simples e evite jargões técnicos excessivos.\n",
        "Se precisar usar um termo técnico, explique-o.\n",
        "2.  **Diagnóstico Interativo (Uma Pergunta por Vez):** Quando um usuário descrever um problema, faça perguntas de acompanhamento para entender completamente\n",
        "a situação. **CRÍTICO: Faça apenas UMA pergunta de esclarecimento por vez. Espere a resposta do usuário antes de fazer a próxima pergunta ou oferecer uma\n",
        "solução.** Não presuma as respostas. Se você tiver várias perguntas em mente para o diagnóstico, pergunte a mais importante ou a primeira lógica primeiro,\n",
        "aguarde a resposta, e então decida qual será sua próxima pergunta. O objetivo é guiar o usuário passo a passo no diagnóstico.\n",
        "3.  **Instruções Passo a Passo Claras:** Forneça instruções claras, concisas e em formato de passo a passo. Numere os passos.\n",
        "4.  **Segurança em Primeiro Lugar:** SEMPRE inclua avisos de segurança relevantes ANTES de qualquer instrução que envolva riscos (eletricidade, ferramentas\n",
        "cortantes, produtos químicos, altura, etc.). Se o risco for alto ou o usuário parecer inseguro, sugira fortemente chamar um profissional qualificado.\n",
        "5.  **Sugestão de Materiais e Ferramentas:** Após o diagnóstico e antes das instruções, liste os materiais e ferramentas provavelmente necessários.\n",
        "6.  **Manutenção de Contexto:** Lembre-se do histórico da conversa para que o diálogo seja fluido e coerente.\n",
        "7.  **Foco em \"Faça Você Mesmo\":** Seu objetivo principal é capacitar o usuário.\n",
        "8.  **Saber Limites:** Se o problema descrito parecer muito complexo, perigoso para um leigo, ou fora do escopo de pequenos reparos domésticos (ex: problemas\n",
        "estruturais, grandes reformas), explique educadamente que o problema excede sua capacidade de ajudar com segurança e recomende que o usuário procure um profissional qualificado.\n",
        "9.  **Incentivo e Paciência:** Muitos usuários podem ser iniciantes. Seja paciente, responda a todas as perguntas e incentive-ios.\n",
        "10. **Formato da Resposta:**\n",
        "    * Use negrito para destacar termos importantes ou cabeçalhos de seção (Ex: **Diagnóstico:**, **Materiais Necessários:**, **Passo a Passo:**, **⚠️ Dicas de Segurança: ⚠️**).\n",
        "    * Use listas numeradas para instruções.\n",
        "    * Use emojis para tornar a conversa mais leve e visual quando apropriado (mas sem exagero).\n",
        "    * Quando for dar algumas intruções, faça isso de forma pausada para que o texto não fique extenso para o usuário. *\n",
        "11. **Uso de Imagens para Diagnóstico:**\n",
        "    * Se o problema for visual ou difícil de descrever apenas com texto (ex: uma peça quebrada específica, um tipo de conexão, uma mancha, um código de erro\n",
        "    em um painel), **pergunte ativamente ao usuário se ele pode enviar uma foto do problema.** Ex: \"Isso parece algo que uma foto poderia ajudar a esclarecer.\n",
        "    Você conseguiria me enviar uma imagem do [objeto/problema]?\"\n",
        "    * Ao analisar uma imagem fornecida pelo usuário, use-a em conjunto com a descrição textual para:\n",
        "        * Identificar melhor o problema visualmente.\n",
        "        * Tentar reconhecer modelos de equipamentos, peças, conexões ou ferramentas.\n",
        "        * Observar detalhes que o usuário pode não ter mencionado.\n",
        "        * Ajudar a determinar os materiais ou ferramentas corretos.\n",
        "    * Após analisar a imagem, formule suas perguntas ou instruções subsequentes com base nas informações combinadas do texto e da imagem.\n",
        "    * Se a imagem não for clara, for irrelevante ou não ajudar no diagnóstico, explique isso educadamente e continue com perguntas textuais para obter mais\n",
        "    informações. Não finja que entendeu algo da imagem se não for o caso.\n",
        "12. **Uso Opcional da Busca na Web:** Se você precisar de informações muito recentes (posteriores à sua data de corte de conhecimento) ou detalhes específicos\n",
        "sobre produtos, manuais, ou lojas, você pode e deve usar a ferramenta de busca na web para encontrar essas informações antes de responder. Use-a apenas quando\n",
        "for realmente necessário para fornecer uma resposta precisa e útil.\n",
        "\n",
        "**Exemplo de interação inicial desejada (para guiar o modelo):**\n",
        "\n",
        "Usuário: \"Minha torneira da cozinha está pingando.\"\n",
        "\n",
        "Você (Mão na Roda): \"Olá! Entendo, uma torneira pingando pode ser bem chata! 💧 Para te ajudar melhor, preciso de um detalhe primeiro: essa torneira é de\n",
        "que tipo? (Ex: monocomando, com dois registros separados para água quente e fria, de parede, de bancada?)\"\n",
        "(Após a resposta do usuário, você faria a próxima pergunta)\n",
        "\n",
        "**Exemplo de interação para instruções muito longas (para guiar o modelo):**\n",
        "\n",
        "Usuário: \"Quero trocar a lâmpada da minha sala.\"\n",
        "\n",
        "Você (Mão na Roda): \"Ótimo! Vamos lá. Primeiro, desligue a luz e a tomada da lâmpada. Depois, retire a lâmpada antiga.\n",
        "Você (Mão na Roda): \"Pergunta se o usuário precisa de ajuda para retirar a lâmpada antiga. Se sim, dê instruções detalhadas. Se não, continue.\"\n",
        "Você (Mão na Roda): \"Agora, coloque a nova lâmpada no lugar e aperte para encaixar bem. Por fim, ligue a luz e a tomada.\"\n",
        "\n",
        "**Exemplo de interação com imagem (para guiar o modelo):**\n",
        "\n",
        "Usuário: \"Acho que o cano debaixo da minha pia está vazando, mas não sei qual peça é.\"\n",
        "Você (Mão na Roda): \"Entendo, vazamentos podem ser complicados. Uma foto poderia me ajudar muito a identificar a peça e o local exato do vazamento.\n",
        "Você conseguiria tirar uma foto da área debaixo da pia e me enviar?\"\n",
        "(Se o usuário enviar a foto)\n",
        "Você (Mão na Roda): \"Obrigado pela foto! Analisando a imagem, vejo que [descrição do que vê na imagem e como isso ajuda]...\"\n",
        "\n",
        "Lembre-se, seu objetivo é ser o \"Faz-Tudo Digital\" de confiança do usuário, guiando-o de forma clara e uma pergunta por vez durante o diagnóstico!\n",
        "\"\"\""
      ]
    },
    {
      "cell_type": "code",
      "execution_count": null,
      "metadata": {
        "colab": {
          "base_uri": "https://localhost:8080/",
          "height": 168
        },
        "id": "QHuw9ThUNUPd",
        "outputId": "8183e868-0b41-466f-fc02-23c5162a2563"
      },
      "outputs": [
        {
          "data": {
            "text/markdown": "### 🛠️ Olá! Eu sou o **Mão na Roda**, seu assistente digital para reparos domésticos!",
            "text/plain": [
              "<IPython.core.display.Markdown object>"
            ]
          },
          "metadata": {},
          "output_type": "display_data"
        },
        {
          "data": {
            "text/markdown": "> 💡 **Dica:** Se eu pedir uma foto, ou se você quiser me enviar uma, digite `/enviarimagem` e pressione Enter. Depois, na próxima linha, digite o caminho completo para o arquivo da imagem.",
            "text/plain": [
              "<IPython.core.display.Markdown object>"
            ]
          },
          "metadata": {},
          "output_type": "display_data"
        },
        {
          "data": {
            "text/markdown": "--- \nComo posso te ajudar hoje?",
            "text/plain": [
              "<IPython.core.display.Markdown object>"
            ]
          },
          "metadata": {},
          "output_type": "display_data"
        }
      ],
      "source": [
        "if client is None:\n",
        "    print(\"ERRO CRÍTICO: O cliente google.genai.Client não foi inicializado. Verifique a Célula 4 e a configuração da API Key.\")\n",
        "else:\n",
        "    generation_config_params = {\n",
        "        \"temperature\": 0.7,\n",
        "        \"top_p\": 0.95,\n",
        "        \"top_k\": 64,\n",
        "        \"max_output_tokens\": 8192,\n",
        "    }\n",
        "\n",
        "    safety_settings_params = [\n",
        "        {\"category\": \"HARM_CATEGORY_HARASSMENT\", \"threshold\": \"BLOCK_MEDIUM_AND_ABOVE\"},\n",
        "        {\"category\": \"HARM_CATEGORY_HATE_SPEECH\", \"threshold\": \"BLOCK_MEDIUM_AND_ABOVE\"},\n",
        "        {\"category\": \"HARM_CATEGORY_SEXUALLY_EXPLICIT\", \"threshold\": \"BLOCK_MEDIUM_AND_ABOVE\"},\n",
        "        {\"category\": \"HARM_CATEGORY_DANGEROUS_CONTENT\", \"threshold\": \"BLOCK_MEDIUM_AND_ABOVE\"},\n",
        "    ]\n",
        "\n",
        "    chat_history = []\n",
        "\n",
        "    # MENSAGENS INICIAIS FORMATADAS\n",
        "    display(Markdown(\"### 🛠️ Olá! Eu sou o **Mão na Roda**, seu assistente digital para reparos domésticos!\"))\n",
        "    display(Markdown(\"> 💡 **Dica:** Se eu pedir uma foto, ou se você quiser me enviar uma, digite `/enviarimagem` e pressione Enter. Depois, na próxima linha, digite o caminho completo para o arquivo da imagem.\"))\n",
        "    display(Markdown(\"--- \\nComo posso te ajudar hoje?\"))\n",
        "\n",
        "\n",
        "    while True:\n",
        "        # O prompt do input() não pode ser formatado com Markdown diretamente na mesma linha.\n",
        "        # A formatação da entrada do usuário será feita *após* o input.\n",
        "        user_input_prompt = \"Você: \"\n",
        "        user_text_input = \"\"\n",
        "        image_to_send = None # Objeto PIL.Image\n",
        "        image_path_for_display = None # Para exibir o nome do arquivo\n",
        "\n",
        "        try:\n",
        "            user_input_line1 = input(user_input_prompt)\n",
        "        except EOFError:\n",
        "            display(Markdown(\"> Mão na Roda: Parece que a conexão foi interrompida. Até a próxima!\"))\n",
        "            break\n",
        "        except KeyboardInterrupt:\n",
        "            display(Markdown(\"\\n> Mão na Roda: Entendido, encerrando o chat. Até logo! 👋\"))\n",
        "            break\n",
        "\n",
        "        if user_input_line1.lower() in [\"sair\", \"exit\", \"fim\", \"tchau\"]:\n",
        "            display(Markdown(\"> Mão na Roda: Até a próxima! Se precisar de mais alguma ajuda, é só chamar! 👋\"))\n",
        "            break\n",
        "\n",
        "        if user_input_line1.lower() == \"/enviarimagem\":\n",
        "            image_path_str = input(\"Caminho da imagem: \")\n",
        "            try:\n",
        "                image_path = pathlib.Path(image_path_str)\n",
        "                if not image_path.is_file():\n",
        "                    display(Markdown(f\"> Mão na Roda: Caminho inválido ou não é um arquivo (`{image_path_str}`). Tente novamente.\"))\n",
        "                    print(\"-\" * 30)\n",
        "                    continue\n",
        "                if image_path.suffix.lower() not in [\".jpg\", \".jpeg\", \".png\", \".webp\"]:\n",
        "                    display(Markdown(\"> Mão na Roda: Formato de imagem não suportado. Use JPG, PNG ou WEBP.\"))\n",
        "                    print(\"-\" * 30)\n",
        "                    continue\n",
        "\n",
        "                # Não exibir \"processando\" aqui, faremos isso junto com a entrada do usuário\n",
        "                image_to_send = Image.open(image_path)\n",
        "                image_path_for_display = image_path.name # Guardar nome para exibição\n",
        "                user_text_accompanying_image = input(\"Você (opcional, descreva a imagem ou faça sua pergunta): \")\n",
        "                if user_text_accompanying_image:\n",
        "                    user_text_input = user_text_accompanying_image\n",
        "            except FileNotFoundError:\n",
        "                display(Markdown(f\"> Mão na Roda: Arquivo de imagem não encontrado em `{image_path_str}`. Verifique e tente novamente.\"))\n",
        "                print(\"-\" * 30)\n",
        "                continue\n",
        "            except Exception as e:\n",
        "                display(Markdown(f\"> Mão na Roda: Erro ao carregar a imagem: {e}\"))\n",
        "                print(\"-\" * 30)\n",
        "                continue\n",
        "        else:\n",
        "            user_text_input = user_input_line1\n",
        "\n",
        "        if not user_text_input and not image_to_send:\n",
        "            display(Markdown(\"> Mão na Roda: Por favor, digite algo ou use `/enviarimagem`.\"))\n",
        "            print(\"-\" * 30)\n",
        "            continue\n",
        "\n",
        "        # EXIBIR A ENTRADA DO USUÁRIO FORMATADA\n",
        "        entrada_formatada_md = \"**Você:** \"\n",
        "        if image_path_for_display:\n",
        "            entrada_formatada_md += f\"[Imagem: `{image_path_for_display}`]\"\n",
        "            if user_text_input:\n",
        "                entrada_formatada_md += f\" {user_text_input}\"\n",
        "        elif user_text_input:\n",
        "            entrada_formatada_md += user_text_input\n",
        "        display(Markdown(entrada_formatada_md))\n",
        "\n",
        "\n",
        "        # Construir as partes da mensagem do usuário atual\n",
        "        current_user_message_parts = []\n",
        "        if user_text_input:\n",
        "            current_user_message_parts.append(types.Part(text=user_text_input))\n",
        "        if image_to_send: # image_to_send é o objeto PIL.Image\n",
        "            import io\n",
        "            img_byte_arr = io.BytesIO()\n",
        "            image_format = image_to_send.format if image_to_send.format else 'PNG'\n",
        "            if image_format == 'JPEG': mime_type = 'image/jpeg'\n",
        "            elif image_format == 'PNG': mime_type = 'image/png'\n",
        "            elif image_format == 'WEBP': mime_type = 'image/webp'\n",
        "            else:\n",
        "                mime_type = 'image/png'\n",
        "                image_format = 'PNG'\n",
        "            image_to_send.save(img_byte_arr, format=image_format)\n",
        "            img_bytes = img_byte_arr.getvalue()\n",
        "            current_user_message_parts.append(types.Part(inline_data=types.Blob(mime_type=mime_type, data=img_bytes)))\n",
        "\n",
        "        if not current_user_message_parts:\n",
        "             display(Markdown(\"> Mão na Roda: Nenhuma mensagem para enviar. Tente novamente.\"))\n",
        "             print(\"-\" * 30)\n",
        "             continue\n",
        "\n",
        "        chat_history.append(types.Content(role=\"user\", parts=current_user_message_parts))\n",
        "\n",
        "        contents_for_api = [\n",
        "            types.Content(role=\"user\", parts=[types.Part(text=SYSTEM_INSTRUCTION + \\\n",
        "                                                         (\"\\n\\nComece a conversa inicial.\" if len(chat_history) == 1 else \"\") )]),\n",
        "        ]\n",
        "        contents_for_api.extend(chat_history)\n",
        "\n",
        "        # Indicador de que o modelo está processando (opcional)\n",
        "        display(Markdown(\"> Mão na Roda está pensando... 🤔\"))\n",
        "\n",
        "        try:\n",
        "            response = client.models.generate_content(\n",
        "                model=f\"models/{MODEL_ID}\",\n",
        "                contents=contents_for_api\n",
        "            )\n",
        "\n",
        "            model_response_text = \"\"\n",
        "            if response.candidates and response.candidates[0].content and response.candidates[0].content.parts:\n",
        "                 for part in response.candidates[0].content.parts:\n",
        "                    if part.text:\n",
        "                        model_response_text += part.text\n",
        "            else:\n",
        "                try: model_response_text = response.text\n",
        "                except AttributeError: model_response_text = \"Desculpe, não consegui gerar uma resposta em texto.\"\n",
        "\n",
        "            if not model_response_text.strip() and response.prompt_feedback and response.prompt_feedback.block_reason:\n",
        "                 model_response_text = f\"A resposta foi bloqueada. Razão: {response.prompt_feedback.block_reason_message or response.prompt_feedback.block_reason}\"\n",
        "\n",
        "            # Limpar o \"pensando...\" - Não há uma forma fácil de remover output anterior no Colab sem usar libs mais complexas.\n",
        "            # A nova resposta do Mão na Roda substituirá visualmente.\n",
        "            # print(\"\\033[F\\033[K\", end=\"\") # Tentativa de limpar linha anterior (pode não funcionar bem no Colab)\n",
        "\n",
        "            display(Markdown(f\"**Mão na Roda:**\")) # Label para a resposta\n",
        "            display(to_markdown(model_response_text))\n",
        "\n",
        "            chat_history.append(types.Content(role=\"model\", parts=[types.Part(text=model_response_text)]))\n",
        "\n",
        "        except Exception as e:\n",
        "            error_detail = str(e)\n",
        "            if hasattr(e, 'response') and hasattr(e.response, 'text'): error_detail += f\"\\nDetalhes da API: {e.response.text}\"\n",
        "            elif hasattr(e, 'message'): error_detail += f\"\\nDetalhes: {e.message}\"\n",
        "\n",
        "            display(Markdown(f\"> **Mão na Roda:** Desculpe, não consegui processar sua solicitação.\"))\n",
        "            display(Markdown(f\"> ```\\nErro: {error_detail}\\n```\")) # Erro em bloco de código\n",
        "            display(Markdown(f\"> Por favor, tente reformular sua pergunta ou problema.\"))\n",
        "\n",
        "            if chat_history and chat_history[-1].role == \"user\": chat_history.pop()\n",
        "\n",
        "        print(\"-\" * 30) # Linha separadora"
      ]
    }
  ],
  "metadata": {
    "colab": {
      "provenance": [],
      "authorship_tag": "ABX9TyMdQWsdni4K/Cg7X6JeTlaI",
      "include_colab_link": true
    },
    "kernelspec": {
      "display_name": "Python 3",
      "name": "python3"
    },
    "language_info": {
      "name": "python"
    }
  },
  "nbformat": 4,
  "nbformat_minor": 0
}